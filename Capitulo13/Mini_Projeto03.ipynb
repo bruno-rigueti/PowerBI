{
 "cells": [
  {
   "cell_type": "code",
   "execution_count": null,
   "metadata": {},
   "outputs": [],
   "source": [
    "# Importando Bibliotecas:\n",
    "import numpy as np\n",
    "import pandas as pd\n",
    "import matplotlib\n",
    "import matplotlib.pyplot as plt\n",
    "import seaborn as sns"
   ]
  },
  {
   "cell_type": "code",
   "execution_count": null,
   "metadata": {},
   "outputs": [],
   "source": [
    "# Carregando os Dados:\n",
    "dadosRH = pd.read_csv('dadosRH.csv')"
   ]
  },
  {
   "cell_type": "code",
   "execution_count": null,
   "metadata": {},
   "outputs": [],
   "source": [
    "# Visualizar os primeiros registros:\n",
    "dadosRH.head()"
   ]
  },
  {
   "cell_type": "code",
   "execution_count": null,
   "metadata": {},
   "outputs": [],
   "source": [
    "# Visualiza o total de Registros e Colunas da Tabela:\n",
    "dadosRH.shape"
   ]
  },
  {
   "cell_type": "code",
   "execution_count": null,
   "metadata": {},
   "outputs": [],
   "source": [
    "# Conta os Registros Ausentes de cada Coluna da Tabela:\n",
    "dadosRH.isnull().sum()"
   ]
  },
  {
   "cell_type": "code",
   "execution_count": null,
   "metadata": {},
   "outputs": [],
   "source": [
    "# Agrupa os Dados das Colunas de Acordo com as Categorias da Coluna informada e conta os Registros para cada Categoria:\n",
    "dadosRH.groupby(['educacao']).count()"
   ]
  },
  {
   "cell_type": "code",
   "execution_count": null,
   "metadata": {},
   "outputs": [],
   "source": [
    "# Cria um Gráfico com a Contagem de Registros de cada Categoria da Coluna Informada:\n",
    "sns.countplot(dadosRH['educacao'])"
   ]
  },
  {
   "cell_type": "code",
   "execution_count": null,
   "metadata": {},
   "outputs": [],
   "source": [
    "dadosRH.groupby(['aval_ano_anterior']).count()"
   ]
  },
  {
   "cell_type": "code",
   "execution_count": null,
   "metadata": {},
   "outputs": [],
   "source": [
    "sns.countplot(dadosRH['aval_ano_anterior'])"
   ]
  },
  {
   "cell_type": "markdown",
   "metadata": {},
   "source": [
    "Métodos de Preenchimento de Valores Ausentes nos Registros das Colunas:"
   ]
  },
  {
   "cell_type": "code",
   "execution_count": null,
   "metadata": {},
   "outputs": [],
   "source": [
    "# Preenchendo os valores ausentes da coluna educação com a Moda:\n",
    "dadosRH['educacao'].fillna(dadosRH['educacao'].mode()[0], inplace = True)"
   ]
  },
  {
   "cell_type": "code",
   "execution_count": null,
   "metadata": {},
   "outputs": [],
   "source": [
    "# Preenchendo os valores ausentes da coluna aval_ano_anterior com a Mediana:\n",
    "dadosRH['aval_ano_anterior'].fillna(dadosRH['aval_ano_anterior'].median(), inplace = True)"
   ]
  },
  {
   "cell_type": "code",
   "execution_count": null,
   "metadata": {},
   "outputs": [],
   "source": [
    "# Agrupando pela coluna promovido:\n",
    "dadosRH.groupby(['promovido']).count()"
   ]
  },
  {
   "cell_type": "code",
   "execution_count": null,
   "metadata": {},
   "outputs": [],
   "source": [
    "# Criando um gráfico com o agrupamento pela coluna promovido:\n",
    "sns.countplot(dadosRH['promovido'])"
   ]
  },
  {
   "cell_type": "markdown",
   "metadata": {},
   "source": [
    "Processo de Upsample para Balanceamento de Classes:"
   ]
  },
  {
   "cell_type": "code",
   "execution_count": null,
   "metadata": {},
   "outputs": [],
   "source": [
    "# 1 - Separar as Classe Majoritária da Classe Minoritária:\n",
    "df_classe_majoritaria = dadosRH[dadosRH.promovido == 0] #Classe Majoritária\n",
    "df_classe_minoritaria = dadosRH[dadosRH.promovido == 1] #Classe Minoritaria"
   ]
  },
  {
   "cell_type": "code",
   "execution_count": null,
   "metadata": {},
   "outputs": [],
   "source": [
    "# 2 - Aplicando a Upsample na Classe Minoritária:\n",
    "from sklearn.utils import resample\n",
    "df_classe_minoritaria_upsample = resample(df_classe_minoritaria,\n",
    "                                          replace = True,\n",
    "                                          n_samples = 50140,\n",
    "                                          random_state = 150)"
   ]
  },
  {
   "cell_type": "code",
   "execution_count": null,
   "metadata": {},
   "outputs": [],
   "source": [
    "# 3 - Concatenar a Classe Majoritaria com a Classe Minoritaria Balanceada:\n",
    "dadosRH_balanceados = pd.concat([df_classe_majoritaria, df_classe_minoritaria_upsample])"
   ]
  },
  {
   "cell_type": "code",
   "execution_count": null,
   "metadata": {},
   "outputs": [],
   "source": [
    "# 4 - Contar o nº de registros da coluna \"promovido\" para conferir:\n",
    "dadosRH_balanceados.promovido.value_counts()"
   ]
  },
  {
   "cell_type": "code",
   "execution_count": null,
   "metadata": {},
   "outputs": [],
   "source": [
    "# Gráfico com os dados balanceados:\n",
    "sns.countplot(dadosRH_balanceados['promovido'])"
   ]
  },
  {
   "cell_type": "markdown",
   "metadata": {},
   "source": [
    "Salvando os Dados Balanceados em um Arquivo .csv:"
   ]
  },
  {
   "cell_type": "code",
   "execution_count": null,
   "metadata": {},
   "outputs": [],
   "source": [
    "# Salvando em arquivo .csv:\n",
    "dadosRH_balanceados.to_csv('dadosRH_modificado.csv', #nome do novo arquivo\n",
    "                           encoding = 'utf-8', # encoding do arquivo\n",
    "                           index = False) #não carrega o indice do pandas"
   ]
  },
  {
   "cell_type": "markdown",
   "metadata": {},
   "source": [
    "Carregando o Conjunto da Dados para criar os gráficos:"
   ]
  },
  {
   "cell_type": "code",
   "execution_count": null,
   "metadata": {},
   "outputs": [],
   "source": [
    "# Carregando o novo conjunto de dados - dadosRH_modificado:\n",
    "dataset = pd.read_csv('dadosRH_modificado.csv')"
   ]
  },
  {
   "cell_type": "code",
   "execution_count": null,
   "metadata": {},
   "outputs": [],
   "source": [
    "# Conferir o carregamento do conjunto de dados:\n",
    "dataset.head()"
   ]
  },
  {
   "cell_type": "code",
   "execution_count": null,
   "metadata": {},
   "outputs": [],
   "source": [
    "# Verificar se há registros ausentes nas colunas da tabela:\n",
    "dadosRH.isnull().sum()"
   ]
  },
  {
   "cell_type": "markdown",
   "metadata": {},
   "source": [
    "1 - Qual a Correlação entre os Atributos dos Funcionários: Mapa de Calor (heatmap)"
   ]
  },
  {
   "cell_type": "code",
   "execution_count": null,
   "metadata": {},
   "outputs": [],
   "source": [
    "import matplotlib.pyplot as plt\n",
    "import seaborn as sns\n",
    "corr = dataset.corr() # calcula as correlações entre as variáveis as salva em uma variável\n",
    "sns.heatmap(corr, # atribui a variável com a matriz de correlações ao Gráfico de Calor - heatmap\n",
    "            cmap = \"YlOrRd\", # atribui um parâmetro ao mapa de cores\n",
    "            linewidths = 0.1) # determina a espessura das linhas do gráfico\n",
    "plt.title('Correlação entre os Atributos dos Funcionários', fontsize = 15) #inclui um título no gráfico\n",
    "plt.show() # carrega e mostra o gráfico"
   ]
  },
  {
   "cell_type": "markdown",
   "metadata": {},
   "source": [
    "2 - Qual o Tempo de Serviço da Maioria dos Funcionários: Gráfico de Distribuição (distplot)"
   ]
  },
  {
   "cell_type": "code",
   "execution_count": null,
   "metadata": {},
   "outputs": [],
   "source": [
    "import matplotlib.pyplot as plt\n",
    "import seaborn as sns\n",
    "sns.distplot(dataset['tempo_servico'], #atribui a variável tempo_servico ao gráfico de distribuição - distplot\n",
    "             color = 'green') #atribui uma cor ao gráfico\n",
    "plt.title(\"Distribuição do Tempo de Serviço dos Funcionários\", fontsize = 15) #inclui um título ao gráfico\n",
    "#O atributo fontsize determina o tamanho da fonte\n",
    "plt.xlabel(\"Tempo de Serviço em Anos\", fontsize = 15) #atribui um label ao eixo x do gráfico\n",
    "plt.ylabel(\"Total\", fontsize = 15) #atribui um label ao eixo y do gráfico\n",
    "plt.show() #carrega e exibe o gráfico"
   ]
  },
  {
   "cell_type": "markdown",
   "metadata": {},
   "source": [
    "3 - Qual Avaliação do Ano Anterior foi mais Comum: Gráfico de Barras (plot.bar)"
   ]
  },
  {
   "cell_type": "code",
   "execution_count": null,
   "metadata": {},
   "outputs": [],
   "source": [
    "import matplotlib.pyplot as plt\n",
    "import seaborn as sns\n",
    "bars = dataset['aval_ano_anterior'].value_counts().sort_values() #adiciona os valores a uma variável\n",
    "# dataset['aval_ano_anterior] - identifica a variável e suas categorias\n",
    "# value_counts() - conta o número de registros por categoria\n",
    "# sort_values() - ordena as categorias pelo seu volume de registros\n",
    "bars.plot.bar(color = 'blue', figsize = (10,5)) # cria o gráfico de barras adicionando o atributo à variável criada\n",
    "plt.title(\"Distribuição da Avaliação do Ano Anterior dos Funcionários\", fontsize = 15)\n",
    "plt.xlabel(\"Avaliações\", fontsize = 15)\n",
    "plt.ylabel(\"Total\", fontsize = 15)\n",
    "plt.show()"
   ]
  },
  {
   "cell_type": "code",
   "execution_count": null,
   "metadata": {},
   "outputs": [],
   "source": [
    "# Filtro na Coluna aval_ano_anterior:\n",
    "dataset['aval_ano_anterior'].value_counts()"
   ]
  },
  {
   "cell_type": "code",
   "execution_count": null,
   "metadata": {},
   "outputs": [],
   "source": [
    "# Ordenação nos valores contados - ordem crescente:\n",
    "dataset['aval_ano_anterior'].value_counts().sort_values()"
   ]
  },
  {
   "cell_type": "code",
   "execution_count": null,
   "metadata": {},
   "outputs": [],
   "source": [
    "#Geração do Gráfico de Barras;\n",
    "bars.plot.bar(color = 'blue', figsize = (10,5))"
   ]
  },
  {
   "cell_type": "markdown",
   "metadata": {},
   "source": [
    "4 - Qual a Distribuição das Idades dos Funcionários: Gráfico de Distribuição (distplot)"
   ]
  },
  {
   "cell_type": "code",
   "execution_count": null,
   "metadata": {},
   "outputs": [],
   "source": [
    "import matplotlib.pyplot as plt\n",
    "import seaborn as sns\n",
    "sns.distplot(dataset['idade'], color = 'red')\n",
    "plt.title('Distribuição da Idade dos Funcionários', fontsize = 15)\n",
    "plt.xlabel('Idade', fontsize = 15)\n",
    "plt.ylabel('Total', fontsize = 15)\n",
    "plt.show()"
   ]
  },
  {
   "cell_type": "markdown",
   "metadata": {},
   "source": [
    "5 - Qual o número de treinamentos mais frequente: Gráfico de Violino (violinplot)"
   ]
  },
  {
   "cell_type": "code",
   "execution_count": null,
   "metadata": {},
   "outputs": [],
   "source": [
    "import matplotlib.pyplot as plt\n",
    "import seaborn as sns\n",
    "sns.violinplot(dataset['numero_treinamentos'], color = 'red')\n",
    "plt.title('Número de Treinamentos feitos pelos Funcionários', fontsize = 15)\n",
    "plt.xlabel('Número de Treinamentos', fontsize = 15)\n",
    "plt.ylabel('Frequência', fontsize = 15)\n",
    "plt.show()"
   ]
  },
  {
   "cell_type": "markdown",
   "metadata": {},
   "source": [
    "6 - Qual a Proporção dos funcionários por Canal de Recrutamento: Gráfico de Pizza (plt.pie)"
   ]
  },
  {
   "cell_type": "code",
   "execution_count": null,
   "metadata": {},
   "outputs": [],
   "source": [
    "import matplotlib.pyplot as plt\n",
    "import seaborn as sns\n",
    "\n",
    "fatias = dataset['canal_recrutamento'].value_counts() #agrupa os dados da variável por suas categorias\n",
    "#fatias = [55375, 42358, 2547]\n",
    "labels = \"Outro\", \"Outsourcing\", \"indicação\" #vetor com as descrições das categorias da variável\n",
    "colors = ['purple', 'lime', 'yellow'] #cores das fatias do gráfico de pizza\n",
    "explode = [0, 0, 0] #vetor com a separação das fatias do gráfico de pizza\n",
    "\n",
    "plt.pie(fatias, #vetor com os dados das fatias\n",
    "        labels = labels, #rótulos das fatias\n",
    "        colors = colors, #cores das fatias\n",
    "        explode = explode, #separação entre as fatias\n",
    "        shadow = True, #inclui um sombreamento no gráfico\n",
    "        autopct = '%.2f%%') #formatação dos valores percentuais no gráfico\n",
    "\n",
    "plt.title(\"Percentual de Funcionários por Canal de Recrutamento\", fontsize = 15)\n",
    "plt.axis('off') #desativa os eixos no gráfico\n",
    "#plt.legend() #inclui uma legenda no gráfico\n",
    "plt.show()"
   ]
  },
  {
   "cell_type": "markdown",
   "metadata": {},
   "source": [
    "7 - Qual a Relação entre a Promoção e a Avaliação do Ano Anterior - Gráfico de Barras Empilhadas (plot)"
   ]
  },
  {
   "cell_type": "code",
   "execution_count": null,
   "metadata": {},
   "outputs": [],
   "source": [
    "import matplotlib.pyplot as plt\n",
    "import seaborn as sns\n",
    "import pandas as pd\n",
    "\n",
    "# Pre-processamento dos dados:\n",
    "data = pd.crosstab(dataset['aval_ano_anterior'], dataset['promovido']) #cria a tabela cruzando os dados das variáveis\n",
    "dat = data.div(data.sum(1).astype(float), axis = 0) #divide os dados entre as categorias da variável categórica\n",
    "\n",
    "# Criando o Gráfico:\n",
    "dat.plot(kind = 'bar', #tipo do gráfico\n",
    "         stacked = True, #ativa o empilhamento dos gráficos\n",
    "         figsize = (16, 9), #tamanho da imagem do gráfico\n",
    "         color = ['blue', 'magenta']) #cores das categorias no gráfico\n",
    "\n",
    "plt.title('Relação entre Avaliação do Ano Anterior e a Promoção', fontsize = 15)\n",
    "plt.xlabel('Avaliação do Ano Anterior', fontsize = 15)\n",
    "plt.legend()\n",
    "plt.show()"
   ]
  }
 ],
 "metadata": {
  "interpreter": {
   "hash": "752bde8f8f25aab72c4e5d70baf43957dffb4d822ca101af3b058c8e0efe2c08"
  },
  "kernelspec": {
   "display_name": "Python 3.10.1 64-bit",
   "language": "python",
   "name": "python3"
  },
  "language_info": {
   "codemirror_mode": {
    "name": "ipython",
    "version": 3
   },
   "file_extension": ".py",
   "mimetype": "text/x-python",
   "name": "python",
   "nbconvert_exporter": "python",
   "pygments_lexer": "ipython3",
   "version": "3.9.9"
  },
  "orig_nbformat": 4
 },
 "nbformat": 4,
 "nbformat_minor": 2
}
